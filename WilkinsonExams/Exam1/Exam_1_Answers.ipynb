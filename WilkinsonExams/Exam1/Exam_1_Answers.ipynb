{
 "cells": [
  {
   "cell_type": "markdown",
   "metadata": {},
   "source": [
    "# Problem 2\n",
    "To list a directory we use the command \"ls\". The argument \"-l\" makes it a list (which allows us to see the permissions) and the argument -\"h makes the size of the files human-readable.\n",
    "The permissions for the file are:\n",
    "    - For the user, It's readable and writeable (rw-).\n",
    "    - For the group, It's readable and writeable (rw-).\n",
    "    - For everyone else, It's just readable (r--).\n",
    "The owners of the file are the group \"osboxes\" and the user \"osboxes\"."
   ]
  },
  {
   "cell_type": "code",
   "execution_count": null,
   "metadata": {},
   "outputs": [],
   "source": [
    "ls -lh"
   ]
  },
  {
   "cell_type": "markdown",
   "metadata": {},
   "source": [
    "# Problem 3\n",
    "To get the \"x\" first lines of a file, we use the command \"head\". The argument \"-1\" makes it so we just get the first line of the file, which is the second argument (Locus_Germplasm_Phenotype_20130122.txt)."
   ]
  },
  {
   "cell_type": "code",
   "execution_count": null,
   "metadata": {},
   "outputs": [],
   "source": [
    "head -1 Locus_Germplasm_Phenotype_20130122.txt"
   ]
  },
  {
   "cell_type": "markdown",
   "metadata": {},
   "source": [
    " # Problem 4\n",
    "To count the number of lines inside a file, we use the command \"w\" (word count) with the argument \"-l\" (count lanes instead of words). We have used a pipe from the command \"cat\" to do It in order to not get as output both the word count and the filename."
   ]
  },
  {
   "cell_type": "code",
   "execution_count": null,
   "metadata": {},
   "outputs": [],
   "source": [
    "cat Locus_Germplasm_Phenotype_20130122.txt | wc -l"
   ]
  },
  {
   "cell_type": "markdown",
   "metadata": {},
   "source": [
    "# Problem 5\n",
    "To select all the lines except the first, we will use the command \"tail\", which with the argument \"-n+2\" will copy all the lines starting from the second to the last in a new file \"Data_Only.csv\".\n",
    "Then we use the command \"wc\" to check if we really have all the lines except for the first in our new file."
   ]
  },
  {
   "cell_type": "code",
   "execution_count": null,
   "metadata": {},
   "outputs": [],
   "source": [
    "tail -n+2 Locus_Germplasm_Phenotype_20130122.txt > Data_Only.csv\n",
    "cat Data_Only.csv | wc -l"
   ]
  },
  {
   "cell_type": "markdown",
   "metadata": {},
   "source": [
    "If we wanted to make sure all the lines we are dumping in Data_Only.csv have, for example, an AGI Locus code, we should use a RegEx as follows. Take note that the number of lines is way less that in the case before, so that must mean that plenty lines dont satisfy our \"Data structure\" condition."
   ]
  },
  {
   "cell_type": "code",
   "execution_count": null,
   "metadata": {},
   "outputs": [],
   "source": [
    "#grep -ioE \"^[A][T][1-5][G][0-9]{5}.+\" Locus_Germplasm_Phenotype_20130122.txt > Data_Only.csv\n",
    "#cat Data_Only.csv | wc -l"
   ]
  },
  {
   "cell_type": "markdown",
   "metadata": {},
   "source": [
    "# Problem 6\n",
    "To search for a specific word inside a file we use the command \"grep\". We use as arguments the word/regular expression we want to match (\"root\") and the filename (Data_Only.csv)."
   ]
  },
  {
   "cell_type": "code",
   "execution_count": null,
   "metadata": {},
   "outputs": [],
   "source": [
    "grep \"root\" Data_Only.csv"
   ]
  },
  {
   "cell_type": "markdown",
   "metadata": {},
   "source": [
    "The output from the command line before is wrong. At some point, the formatting of our file went wrong, making the command \"grep\" to crash. For the exam purpose, we will use that output as if we didn't realize about this."
   ]
  },
  {
   "cell_type": "markdown",
   "metadata": {},
   "source": [
    "# Problem 7\n",
    "First, we repeat the search from the Problem 6, and then we pipe it to another search with the command \"grep\", the arguments for case insensitive (-i), only output the match (-o) and to use extended regular expressions (-E). Our regular expression will match a word which contains an A, a T, a number between 1 and 5, a G, and 5 numbers between 0 and 9.The output of this search is saved to the file \"Root-associated-Loci.txt\", but removing the duplicates by using the command \"sort\" and the argument \"-u\"."
   ]
  },
  {
   "cell_type": "code",
   "execution_count": null,
   "metadata": {},
   "outputs": [],
   "source": [
    "grep \"root\" Data_Only.csv | grep -ioE \"^[A][T][1-5][G][0-9]{5}\" | sort -u > Root-associated-Loci.txt\n",
    "cat Root-associated-Loci.txt"
   ]
  },
  {
   "cell_type": "markdown",
   "metadata": {},
   "source": [
    "Again, since we know that we are doing it wrong, one way to skip the impediment of the first search for this exercise, it would be to use the next command line. What we do here to avoid the problem is make a search which accepts anything between the AGI locus code and the word \"root\", and then extract only the part we are interested in, in this case the AGI Locus code. In this way, it will accept any character even if doesn't understand it, so grep won't crash. Finally, we remove duplicates with \"sort -u\" and store the results in \"Root-associated-Loci.txt\"."
   ]
  },
  {
   "cell_type": "code",
   "execution_count": null,
   "metadata": {},
   "outputs": [],
   "source": [
    "#This code is commented to avoid running it by mistake.\n",
    "#grep -ioE \"^AT[1-5]G[0-9]{5}.+ROOT\" Data_Only.csv | grep -ioE \"^AT[1-5]G[0-9]{5}\" | sort -u > Root-associated-Loci.txt"
   ]
  },
  {
   "cell_type": "markdown",
   "metadata": {},
   "source": [
    "# Problem 8\n",
    "First, we repeat the search from the Problem 6, and then we pipe it to another search with the command \"grep\", the arguments for only output the match (-o) and to use extended regular expressions (-E). Our regular expression will match a word that contains any quantity of numbers and its located at the end of the line."
   ]
  },
  {
   "cell_type": "code",
   "execution_count": null,
   "metadata": {},
   "outputs": [],
   "source": [
    "grep \"root\" Data_Only.csv | grep -oE \"[0-9]+$\" | sort -u > Root-associated-Publications.txt\n",
    "cat Root-associated-Publications.txt"
   ]
  },
  {
   "cell_type": "markdown",
   "metadata": {},
   "source": [
    "Once again, this is wrong, since the the search from the exercise 6 doesn't operate as it should. If we wanted to skip this impediment, we should use the next command line. What we do here to avoid the problem is make a search which accepts anything between the PUBMED ID and the word \"root\", and then extract only the part we are interested in, in this case the PUBMED ID. In this way, it will accept any character even if doesn't understand it, so grep won't crash. Finally, we remove duplicates with \"sort -u\" and store the results in \"Root-associated-Publications.txt\"."
   ]
  },
  {
   "cell_type": "code",
   "execution_count": null,
   "metadata": {},
   "outputs": [],
   "source": [
    "#This code is commented to avoid running it by mistake.\n",
    "#grep -ioE \"ROOT.+[0-9]+$\" Data_Only.csv | grep -oE \"[0-9]+$\" | sort -u > Root-associated-Publications.txt"
   ]
  },
  {
   "cell_type": "markdown",
   "metadata": {},
   "source": [
    "# Problem 9\n",
    "Here we test the hypothesis that we may find root associated genes in all the chromosomes. In order to do It, we make a search using the command \"grep\" that looks between the list of accession numbers of the same chromosome (represented on the third character of our AGI Loci Code as a number) from the file \"Data_Only.csv\" all those who contain the word \"root\" on their description, and we count them.\n",
    "As we can see, we find genes related to the roots in all the chromosomes."
   ]
  },
  {
   "cell_type": "code",
   "execution_count": null,
   "metadata": {},
   "outputs": [],
   "source": [
    "echo \"Number of root mutation accessions in chromosome 1:\"\n",
    "grep -ioE \"^AT1G[0-9]{5}.+ROOT\" Data_Only.csv | wc -l\n",
    "echo \"Number of root mutation accessions in chromosome 2:\"\n",
    "grep -ioE \"^AT2G[0-9]{5}.+ROOT\" Data_Only.csv | wc -l\n",
    "echo \"Number of root mutation accessions in chromosome 3:\"\n",
    "grep -ioE \"^AT3G[0-9]{5}.+ROOT\" Data_Only.csv | wc -l\n",
    "echo \"Number of root mutation accessions in chromosome 4:\"\n",
    "grep -ioE \"^AT4G[0-9]{5}.+ROOT\" Data_Only.csv | wc -l\n",
    "echo \"Number of root mutation accessions in chromosome 5:\"\n",
    "grep -ioE \"^AT5G[0-9]{5}.+ROOT\" Data_Only.csv | wc -l"
   ]
  },
  {
   "cell_type": "markdown",
   "metadata": {},
   "source": [
    "# Problem 10\n",
    "Thanks to doing the control in the exercise before, I realized there was something wrong with the code I wrote the first time for the previous exercises. I didn't know what It was, but It was something that was making the command \"grep\" to crash soon after It started reading the accession numbers of the first chromosome.\n",
    "By working with some classmates at home, first we realized that It was something that the Virtual Machine couldn't read, since the same code worked properly in our native Linux bashes. Finally, we found that the problem was that the file \"Locus_Germplasm_Phenotype_20130122.txt\" had some characters coded in a different way that our virtual machine could understand (UTF-8 instead of ASCII).\n",
    "To fix this, the answer was to make a search which could ignore those kind of characters.\n",
    "So, wrapping up, thanks to this last exercise:\n",
    "    - I learnt that I don't have to give for granted that my initial data is properly formatted.\n",
    "    - And I also learnt that I should ALWAYS make controls to check that the things I give for granted are actually that way."
   ]
  }
 ],
 "metadata": {
  "kernelspec": {
   "display_name": "Bash",
   "language": "bash",
   "name": "bash"
  },
  "language_info": {
   "codemirror_mode": "shell",
   "file_extension": ".sh",
   "mimetype": "text/x-sh",
   "name": "bash"
  }
 },
 "nbformat": 4,
 "nbformat_minor": 2
}
